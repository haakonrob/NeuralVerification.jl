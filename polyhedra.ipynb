{
 "cells": [
  {
   "cell_type": "code",
   "execution_count": 12,
   "metadata": {},
   "outputs": [
    {
     "data": {
      "text/plain": [
       "100"
      ]
     },
     "execution_count": 12,
     "metadata": {},
     "output_type": "execute_result"
    }
   ],
   "source": [
    "using Polyhedra\n",
    "\n",
    "N = 100"
   ]
  },
  {
   "cell_type": "code",
   "execution_count": 21,
   "metadata": {},
   "outputs": [],
   "source": [
    "H = randn(N,2)\n",
    "h = randn(N)\n",
    "nothing"
   ]
  },
  {
   "cell_type": "code",
   "execution_count": 15,
   "metadata": {},
   "outputs": [
    {
     "data": {
      "text/plain": [
       "H-representation MixedMatHRep{Float64, Matrix{Float64}}:\n",
       "100-element iterator of HalfSpace{Float64, Vector{Float64}}:\n",
       " HalfSpace([1.2357704266080651, -0.6749466211697807], 0.41703448435306856)\n",
       " HalfSpace([1.2303712913543607, 1.593861936433845], -0.6753287450541781)\n",
       " HalfSpace([-2.025954111254546, -0.8237438013792524], 1.2488539847037703)\n",
       " HalfSpace([0.6711345285095836, -0.3807687625409921], -0.056267905906368446)\n",
       " HalfSpace([-0.552257156718637, -1.6721696876785415], 0.7961910923223958)\n",
       " HalfSpace([-0.8729715256789038, -0.3601281511587152], -0.03640000963571411)\n",
       " HalfSpace([1.5119374840954767, -1.144695637981106], 1.2820758798253662)\n",
       " HalfSpace([-0.45205926832827387, -0.9922627105716816], 0.3069110517820401)\n",
       " HalfSpace([-0.7574198611235865, -0.23946813642245773], -0.612600529410314)\n",
       " HalfSpace([-1.1328650273376835, -0.4411751071389054], -0.9979973704252447)\n",
       " HalfSpace([-2.0672673877739345, -1.4401820431230412], -0.5098890091050683)\n",
       " HalfSpace([0.6258318939209022, 1.0363427801620824], 0.9071489714970303)\n",
       " HalfSpace([-0.9979094952654598, -0.1222154832335666], -1.5650822224145986)\n",
       " HalfSpace([0.7506725617191067, 1.0291414254059839], 2.2295779214123193)\n",
       " HalfSpace([-1.025260562744755, 0.1655466073674526], 0.8087674683168743)\n",
       " HalfSpace([0.15519076778213156, 0.05035094450817355], -2.3963641334967867)\n",
       " HalfSpace([-2.1160514354821243, 0.5891753312208502], 2.5867990359319766)\n",
       " HalfSpace([1.8061145276807595, -0.6941001434367735], -0.6345130617497998)\n",
       " HalfSpace([-1.1110378735413964, -1.186786162116517], -0.6609920839746657)\n",
       " HalfSpace([-0.5243329524465813, 0.14690908476366643], -1.1663631557040808)\n",
       " HalfSpace([-0.599072786980477, -1.0225079749771067], 1.687958947632678)\n",
       " HalfSpace([-0.142045332795495, -1.1288290308583995], -1.5244159680856735)\n",
       " HalfSpace([-0.9771805539108485, 0.43478521191414954], 2.0989848535529347)\n",
       " HalfSpace([1.3893948335435284, -0.02355616551460623], 0.8279684037432887)\n",
       " HalfSpace([1.749312034371032, 0.6667232484513732], -0.35256018830838165)\n",
       " HalfSpace([1.1124359823598342, -1.6731793954801522], 0.24820904673924737)\n",
       "  ⋮"
      ]
     },
     "execution_count": 15,
     "metadata": {},
     "output_type": "execute_result"
    }
   ],
   "source": [
    "p = hrep(H,h)\n"
   ]
  },
  {
   "cell_type": "code",
   "execution_count": 16,
   "metadata": {},
   "outputs": [
    {
     "name": "stdout",
     "output_type": "stream",
     "text": [
      "| name |      size | summary                                                 |\n",
      "|:---- | ---------:|:------------------------------------------------------- |\n",
      "| Base |           | Module                                                  |\n",
      "| Core |           | Module                                                  |\n",
      "| H    | 1.602 KiB | 100×2 Matrix{Float64}                                   |\n",
      "| Main |           | Module                                                  |\n",
      "| N    |   8 bytes | Int64                                                   |\n",
      "| h    | 840 bytes | 100-element Vector{Float64}                             |\n",
      "| p    | 2.500 KiB | H-representation MixedMatHRep{Float64, Matrix{Float64}} |\n"
     ]
    }
   ],
   "source": [
    "print(varinfo())"
   ]
  },
  {
   "cell_type": "code",
   "execution_count": 31,
   "metadata": {},
   "outputs": [
    {
     "data": {
      "text/plain": [
       "true"
      ]
     },
     "execution_count": 31,
     "metadata": {},
     "output_type": "execute_result"
    }
   ],
   "source": [
    "using GLPK; solver = GLPK.Optimizer\n",
    "lib = DefaultLibrary{Float64}(solver)\n",
    "\n",
    "p2 = polyhedron(p, lib)\n",
    "\n",
    "isempty(p2)"
   ]
  },
  {
   "cell_type": "code",
   "execution_count": 33,
   "metadata": {},
   "outputs": [
    {
     "name": "stdout",
     "output_type": "stream",
     "text": [
      "| name   |      size | summary                                                                                                               |\n",
      "|:------ | ---------:|:--------------------------------------------------------------------------------------------------------------------- |\n",
      "| Base   |           | Module                                                                                                                |\n",
      "| Core   |           | Module                                                                                                                |\n",
      "| H      | 1.602 KiB | 100×2 Matrix{Float64}                                                                                                 |\n",
      "| Main   |           | Module                                                                                                                |\n",
      "| N      |   8 bytes | Int64                                                                                                                 |\n",
      "| h      | 840 bytes | 100-element Vector{Float64}                                                                                           |\n",
      "| lib    |   8 bytes | DefaultLibrary{Float64}                                                                                               |\n",
      "| p      | 2.500 KiB | H-representation MixedMatHRep{Float64, Matrix{Float64}}                                                               |\n",
      "| p2     | 2.539 KiB | Polyhedron DefaultPolyhedron{Float64, MixedMatHRep{Float64, Matrix{Float64}}, MixedMatVRep{Float64, Matrix{Float64}}} |\n",
      "| solver | 592 bytes | DataType                                                                                                              |\n"
     ]
    }
   ],
   "source": [
    "print(varinfo())"
   ]
  },
  {
   "cell_type": "code",
   "execution_count": 3,
   "metadata": {},
   "outputs": [
    {
     "name": "stderr",
     "output_type": "stream",
     "text": [
      "┌ Info: Precompiling ECOS [e2685f51-7e38-5353-a97d-a921fd2c8199]\n",
      "└ @ Base loading.jl:1423\n",
      "\u001b[91m\u001b[1mERROR: \u001b[22m\u001b[39mLoadError: UndefVarError: set_with_dimension not defined\n",
      "Stacktrace:\n",
      "  [1] \u001b[0m\u001b[1mgetproperty\u001b[22m\u001b[0m\u001b[1m(\u001b[22m\u001b[90mx\u001b[39m::\u001b[0mModule, \u001b[90mf\u001b[39m::\u001b[0mSymbol\u001b[0m\u001b[1m)\u001b[22m\n",
      "\u001b[90m    @ \u001b[39m\u001b[90mBase\u001b[39m \u001b[90m.\\\u001b[39m\u001b[90m\u001b[4mBase.jl:35\u001b[24m\u001b[39m\n",
      "  [2] top-level scope\n",
      "\u001b[90m    @ \u001b[39m\u001b[90mC:\\Users\\Haakon\\.julia\\packages\\ECOS\\efUcN\\src\\MOI_wrapper\\\u001b[39m\u001b[90m\u001b[4mpermuted_exponential_cone.jl:7\u001b[24m\u001b[39m\n",
      "  [3] \u001b[0m\u001b[1minclude\u001b[22m\u001b[0m\u001b[1m(\u001b[22m\u001b[90mmod\u001b[39m::\u001b[0mModule, \u001b[90m_path\u001b[39m::\u001b[0mString\u001b[0m\u001b[1m)\u001b[22m\n",
      "\u001b[90m    @ \u001b[39m\u001b[90mBase\u001b[39m \u001b[90m.\\\u001b[39m\u001b[90m\u001b[4mBase.jl:418\u001b[24m\u001b[39m\n",
      "  [4] \u001b[0m\u001b[1minclude\u001b[22m\u001b[0m\u001b[1m(\u001b[22m\u001b[90mx\u001b[39m::\u001b[0mString\u001b[0m\u001b[1m)\u001b[22m\n",
      "\u001b[90m    @ \u001b[39m\u001b[35mECOS\u001b[39m \u001b[90mC:\\Users\\Haakon\\.julia\\packages\\ECOS\\efUcN\\src\\\u001b[39m\u001b[90m\u001b[4mECOS.jl:10\u001b[24m\u001b[39m\n",
      "  [5] top-level scope\n",
      "\u001b[90m    @ \u001b[39m\u001b[90mC:\\Users\\Haakon\\.julia\\packages\\ECOS\\efUcN\\src\\MOI_wrapper\\\u001b[39m\u001b[90m\u001b[4mMOI_wrapper.jl:4\u001b[24m\u001b[39m\n",
      "  [6] \u001b[0m\u001b[1minclude\u001b[22m\u001b[0m\u001b[1m(\u001b[22m\u001b[90mmod\u001b[39m::\u001b[0mModule, \u001b[90m_path\u001b[39m::\u001b[0mString\u001b[0m\u001b[1m)\u001b[22m\n",
      "\u001b[90m    @ \u001b[39m\u001b[90mBase\u001b[39m \u001b[90m.\\\u001b[39m\u001b[90m\u001b[4mBase.jl:418\u001b[24m\u001b[39m\n",
      "  [7] \u001b[0m\u001b[1minclude\u001b[22m\u001b[0m\u001b[1m(\u001b[22m\u001b[90mx\u001b[39m::\u001b[0mString\u001b[0m\u001b[1m)\u001b[22m\n",
      "\u001b[90m    @ \u001b[39m\u001b[35mECOS\u001b[39m \u001b[90mC:\\Users\\Haakon\\.julia\\packages\\ECOS\\efUcN\\src\\\u001b[39m\u001b[90m\u001b[4mECOS.jl:10\u001b[24m\u001b[39m\n",
      "  [8] top-level scope\n",
      "\u001b[90m    @ \u001b[39m\u001b[90mC:\\Users\\Haakon\\.julia\\packages\\ECOS\\efUcN\\src\\\u001b[39m\u001b[90m\u001b[4mECOS.jl:34\u001b[24m\u001b[39m\n",
      "  [9] \u001b[0m\u001b[1minclude\u001b[22m\n",
      "\u001b[90m    @ \u001b[39m\u001b[90m.\\\u001b[39m\u001b[90m\u001b[4mBase.jl:418\u001b[24m\u001b[39m\u001b[90m [inlined]\u001b[39m\n",
      " [10] \u001b[0m\u001b[1minclude_package_for_output\u001b[22m\u001b[0m\u001b[1m(\u001b[22m\u001b[90mpkg\u001b[39m::\u001b[0mBase.PkgId, \u001b[90minput\u001b[39m::\u001b[0mString, \u001b[90mdepot_path\u001b[39m::\u001b[0mVector\u001b[90m{String}\u001b[39m, \u001b[90mdl_load_path\u001b[39m::\u001b[0mVector\u001b[90m{String}\u001b[39m, \u001b[90mload_path\u001b[39m::\u001b[0mVector\u001b[90m{String}\u001b[39m, \u001b[90mconcrete_deps\u001b[39m::\u001b[0mVector\u001b[90m{Pair{Base.PkgId, UInt64}}\u001b[39m, \u001b[90msource\u001b[39m::\u001b[0mNothing\u001b[0m\u001b[1m)\u001b[22m\n",
      "\u001b[90m    @ \u001b[39m\u001b[90mBase\u001b[39m \u001b[90m.\\\u001b[39m\u001b[90m\u001b[4mloading.jl:1318\u001b[24m\u001b[39m\n",
      " [11] top-level scope\n",
      "\u001b[90m    @ \u001b[39m\u001b[90m\u001b[4mnone:1\u001b[24m\u001b[39m\n",
      " [12] \u001b[0m\u001b[1meval\u001b[22m\n",
      "\u001b[90m    @ \u001b[39m\u001b[90m.\\\u001b[39m\u001b[90m\u001b[4mboot.jl:373\u001b[24m\u001b[39m\u001b[90m [inlined]\u001b[39m\n",
      " [13] \u001b[0m\u001b[1meval\u001b[22m\u001b[0m\u001b[1m(\u001b[22m\u001b[90mx\u001b[39m::\u001b[0mExpr\u001b[0m\u001b[1m)\u001b[22m\n",
      "\u001b[90m    @ \u001b[39m\u001b[90mBase.MainInclude\u001b[39m \u001b[90m.\\\u001b[39m\u001b[90m\u001b[4mclient.jl:453\u001b[24m\u001b[39m\n",
      " [14] top-level scope\n",
      "\u001b[90m    @ \u001b[39m\u001b[90m\u001b[4mnone:1\u001b[24m\u001b[39m\n",
      "in expression starting at C:\\Users\\Haakon\\.julia\\packages\\ECOS\\efUcN\\src\\MOI_wrapper\\permuted_exponential_cone.jl:7\n",
      "in expression starting at C:\\Users\\Haakon\\.julia\\packages\\ECOS\\efUcN\\src\\MOI_wrapper\\MOI_wrapper.jl:4\n",
      "in expression starting at C:\\Users\\Haakon\\.julia\\packages\\ECOS\\efUcN\\src\\ECOS.jl:10\n"
     ]
    },
    {
     "ename": "LoadError",
     "evalue": "Failed to precompile ECOS [e2685f51-7e38-5353-a97d-a921fd2c8199] to C:\\Users\\Haakon\\.julia\\compiled\\v1.7\\ECOS\\jl_3225.tmp.",
     "output_type": "error",
     "traceback": [
      "Failed to precompile ECOS [e2685f51-7e38-5353-a97d-a921fd2c8199] to C:\\Users\\Haakon\\.julia\\compiled\\v1.7\\ECOS\\jl_3225.tmp.",
      "",
      "Stacktrace:",
      " [1] error(s::String)",
      "   @ Base .\\error.jl:33",
      " [2] compilecache(pkg::Base.PkgId, path::String, internal_stderr::IO, internal_stdout::IO, ignore_loaded_modules::Bool)",
      "   @ Base .\\loading.jl:1466",
      " [3] compilecache(pkg::Base.PkgId, path::String)",
      "   @ Base .\\loading.jl:1410",
      " [4] _require(pkg::Base.PkgId)",
      "   @ Base .\\loading.jl:1120",
      " [5] require(uuidkey::Base.PkgId)",
      "   @ Base .\\loading.jl:1013",
      " [6] require(into::Module, mod::Symbol)",
      "   @ Base .\\loading.jl:997",
      " [7] eval",
      "   @ .\\boot.jl:373 [inlined]",
      " [8] include_string(mapexpr::typeof(REPL.softscope), mod::Module, code::String, filename::String)",
      "   @ Base .\\loading.jl:1196"
     ]
    }
   ],
   "source": [
    "using JuMP, ECOS\n",
    "model = Model(ECOS.Optimizer)\n",
    "# set_optimizer_attribute(model, \"maxit\", 100)\n",
    "\n"
   ]
  },
  {
   "cell_type": "code",
   "execution_count": null,
   "metadata": {},
   "outputs": [],
   "source": [
    "@variable(model, x >= 0)\n",
    "@variable(model, 0 <= y <= 3)\n",
    "@objective(model, Min, 12x + 20y)\n",
    "@constraint(model, c1, 6x + 8y >= 100)\n",
    "@constraint(model, c2, 7x + 12y >= 120)\n",
    "print(model)\n"
   ]
  },
  {
   "cell_type": "code",
   "execution_count": null,
   "metadata": {},
   "outputs": [],
   "source": [
    "optimize!(model)\n",
    "@show termination_status(model)\n",
    "@show primal_status(model)\n",
    "@show dual_status(model)\n",
    "@show objective_value(model)\n",
    "@show value(x)\n",
    "@show value(y)\n",
    "@show shadow_price(c1)\n",
    "@show shadow_price(c2)"
   ]
  },
  {
   "cell_type": "code",
   "execution_count": null,
   "metadata": {},
   "outputs": [],
   "source": []
  }
 ],
 "metadata": {
  "kernelspec": {
   "display_name": "Julia 1.7.2",
   "language": "julia",
   "name": "julia-1.7"
  },
  "language_info": {
   "file_extension": ".jl",
   "mimetype": "application/julia",
   "name": "julia",
   "version": "1.7.2"
  },
  "orig_nbformat": 4
 },
 "nbformat": 4,
 "nbformat_minor": 2
}
