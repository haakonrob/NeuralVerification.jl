{
 "cells": [
  {
   "cell_type": "code",
   "execution_count": 13,
   "metadata": {},
   "outputs": [
    {
     "data": {
      "text/plain": [
       "100"
      ]
     },
     "metadata": {},
     "output_type": "display_data"
    }
   ],
   "source": [
    "using Polyhedra\n",
    "\n",
    "N = 100"
   ]
  },
  {
   "cell_type": "code",
   "execution_count": null,
   "metadata": {},
   "outputs": [],
   "source": [
    "using BenchmarkTools"
   ]
  },
  {
   "cell_type": "code",
   "execution_count": 14,
   "metadata": {},
   "outputs": [],
   "source": [
    "H = randn(N,2)\n",
    "h = randn(N)\n",
    "nothing"
   ]
  },
  {
   "cell_type": "code",
   "execution_count": 15,
   "metadata": {},
   "outputs": [
    {
     "data": {
      "text/plain": [
       "H-representation MixedMatHRep{Float64, Matrix{Float64}}:\n",
       "100-element iterator of HalfSpace{Float64, Vector{Float64}}:\n",
       " HalfSpace([0.9786301698561171, 0.332478859179084], -0.3654086686925743)\n",
       " HalfSpace([1.4085786448110202, 0.16091864759808144], 0.34289505962370553)\n",
       " HalfSpace([-0.6305318256828362, 0.15193133431937755], -0.6348295227428495)\n",
       " HalfSpace([1.0138567396606306, -0.7413366853512701], -0.5866010647530459)\n",
       " HalfSpace([0.4388041692304591, -0.7349045069252482], 0.4104477276071975)\n",
       " HalfSpace([-0.370023558377472, 0.2446627316729897], -0.029987058003921624)\n",
       " HalfSpace([0.9464154590282142, 1.898644314029806], 0.545306850738707)\n",
       " HalfSpace([-0.18804357025801532, 2.0621461225757125], -0.41842065430850334)\n",
       " HalfSpace([-1.9669756876202262, 0.6183422889840785], -0.7245966971993202)\n",
       " HalfSpace([1.1916940146361177, 0.48913115265344775], -0.3735731232442595)\n",
       " HalfSpace([1.1106521278399208, 0.17274534705775849], 0.30486132105637376)\n",
       " HalfSpace([-0.5711229585068944, -0.4292393312971689], -0.6126255728678726)\n",
       " HalfSpace([-2.2881686932676906, 0.9311076273787903], -0.5769154850473618)\n",
       " HalfSpace([1.9231514313862281, -0.7063642503114788], -0.3392983705122034)\n",
       " HalfSpace([0.7646241662992747, 0.35433624316580953], -0.6193641790756603)\n",
       " HalfSpace([1.7556706275144158, 0.40831829095829497], 0.7558460325568587)\n",
       " HalfSpace([-0.07129165216879677, 0.9795679191460258], -0.7449122511047161)\n",
       " HalfSpace([0.9474265643269998, 0.18497805618079058], 0.08685456926105908)\n",
       " HalfSpace([0.7604559486865695, 1.745064292993441], 0.3729850796294081)\n",
       " HalfSpace([-1.316386378588202, -0.8332154091972749], 1.1794257085295723)\n",
       "  ⋮"
      ]
     },
     "metadata": {},
     "output_type": "display_data"
    }
   ],
   "source": [
    "p = hrep(H,h)\n"
   ]
  },
  {
   "cell_type": "code",
   "execution_count": 16,
   "metadata": {},
   "outputs": [
    {
     "name": "stdout",
     "output_type": "stream",
     "text": [
      "| name           |        size | summary                                                                                                                                                    |\n",
      "|:-------------- | -----------:|:---------------------------------------------------------------------------------------------------------------------------------------------------------- |\n",
      "| Base           |             | Module                                                                                                                                                     |\n",
      "| Core           |             | Module                                                                                                                                                     |\n",
      "| H              |   1.602 KiB | 100×2 Matrix{Float64}                                                                                                                                      |\n",
      "| Main           |             | Module                                                                                                                                                     |\n",
      "| N              |     8 bytes | Int64                                                                                                                                                      |\n",
      "| c1             | 111.752 KiB | ConstraintRef{Model, MathOptInterface.ConstraintIndex{MathOptInterface.ScalarAffineFunction{Float64}, MathOptInterface.GreaterThan{Float64}}, ScalarShape} |\n",
      "| c2             | 111.752 KiB | ConstraintRef{Model, MathOptInterface.ConstraintIndex{MathOptInterface.ScalarAffineFunction{Float64}, MathOptInterface.GreaterThan{Float64}}, ScalarShape} |\n",
      "| h              |   840 bytes | 100-element Vector{Float64}                                                                                                                                |\n",
      "| make_and_solve |     0 bytes | make_and_solve (generic function with 1 method)                                                                                                            |\n",
      "| model          | 111.736 KiB | Model                                                                                                                                                      |\n",
      "| p              |   2.500 KiB | H-representation MixedMatHRep{Float64, Matrix{Float64}}                                                                                                    |\n",
      "| x              | 111.752 KiB | VariableRef                                                                                                                                                |\n",
      "| y              | 111.752 KiB | VariableRef                                                                                                                                                |\n"
     ]
    }
   ],
   "source": [
    "print(varinfo())"
   ]
  },
  {
   "cell_type": "code",
   "execution_count": 21,
   "metadata": {},
   "outputs": [
    {
     "data": {
      "text/plain": [
       "true"
      ]
     },
     "metadata": {},
     "output_type": "display_data"
    }
   ],
   "source": [
    "using GLPK; solver = GLPK.Optimizer\n",
    "lib = DefaultLibrary{Float64}(solver)\n",
    "\n",
    "p2 = polyhedron(p, lib)\n",
    "\n",
    "isempty(p2)"
   ]
  },
  {
   "cell_type": "code",
   "execution_count": 30,
   "metadata": {},
   "outputs": [
    {
     "data": {
      "text/plain": [
       "true"
      ]
     },
     "metadata": {},
     "output_type": "display_data"
    }
   ],
   "source": [
    "isempty(p2)"
   ]
  },
  {
   "cell_type": "code",
   "execution_count": 18,
   "metadata": {},
   "outputs": [
    {
     "data": {
      "text/plain": [
       "BenchmarkTools.Trial: 7013 samples with 1 evaluation.\n",
       " Range \u001b[90m(\u001b[39m\u001b[36m\u001b[1mmin\u001b[22m\u001b[39m … \u001b[35mmax\u001b[39m\u001b[90m):  \u001b[39m\u001b[36m\u001b[1m633.202 μs\u001b[22m\u001b[39m … \u001b[35m20.565 ms\u001b[39m  \u001b[90m┊\u001b[39m GC \u001b[90m(\u001b[39mmin … max\u001b[90m): \u001b[39m0.00% … 87.42%\n",
       " Time  \u001b[90m(\u001b[39m\u001b[34m\u001b[1mmedian\u001b[22m\u001b[39m\u001b[90m):     \u001b[39m\u001b[34m\u001b[1m647.481 μs              \u001b[22m\u001b[39m\u001b[90m┊\u001b[39m GC \u001b[90m(\u001b[39mmedian\u001b[90m):    \u001b[39m0.00%\n",
       " Time  \u001b[90m(\u001b[39m\u001b[32m\u001b[1mmean\u001b[22m\u001b[39m ± \u001b[32mσ\u001b[39m\u001b[90m):   \u001b[39m\u001b[32m\u001b[1m707.194 μs\u001b[22m\u001b[39m ± \u001b[32m 1.002 ms\u001b[39m  \u001b[90m┊\u001b[39m GC \u001b[90m(\u001b[39mmean ± σ\u001b[90m):  \u001b[39m6.88% ±  4.68%\n",
       "\n",
       "  \u001b[39m \u001b[39m \u001b[39m \u001b[39m▂\u001b[39m▆\u001b[39m▇\u001b[39m█\u001b[39m▇\u001b[39m▅\u001b[39m▄\u001b[34m▂\u001b[39m\u001b[39m▁\u001b[39m▁\u001b[39m \u001b[39m \u001b[39m \u001b[39m \u001b[39m \u001b[39m \u001b[39m \u001b[39m \u001b[39m \u001b[39m \u001b[39m \u001b[39m \u001b[39m \u001b[39m \u001b[39m \u001b[39m \u001b[39m \u001b[39m \u001b[39m \u001b[39m \u001b[39m \u001b[39m \u001b[39m \u001b[39m \u001b[39m \u001b[39m \u001b[39m \u001b[39m \u001b[39m \u001b[39m \u001b[39m \u001b[39m \u001b[39m \u001b[39m \u001b[39m \u001b[39m \u001b[39m \u001b[32m \u001b[39m\u001b[39m \u001b[39m \u001b[39m \u001b[39m \u001b[39m \u001b[39m \u001b[39m \u001b[39m \u001b[39m \u001b[39m \u001b[39m \n",
       "  \u001b[39m▁\u001b[39m▃\u001b[39m▅\u001b[39m█\u001b[39m█\u001b[39m█\u001b[39m█\u001b[39m█\u001b[39m█\u001b[39m█\u001b[34m█\u001b[39m\u001b[39m█\u001b[39m█\u001b[39m▇\u001b[39m▇\u001b[39m▆\u001b[39m▅\u001b[39m▅\u001b[39m▄\u001b[39m▄\u001b[39m▃\u001b[39m▃\u001b[39m▃\u001b[39m▂\u001b[39m▂\u001b[39m▂\u001b[39m▂\u001b[39m▂\u001b[39m▂\u001b[39m▂\u001b[39m▂\u001b[39m▂\u001b[39m▂\u001b[39m▂\u001b[39m▂\u001b[39m▂\u001b[39m▂\u001b[39m▂\u001b[39m▂\u001b[39m▁\u001b[39m▂\u001b[39m▂\u001b[39m▂\u001b[39m▁\u001b[39m▁\u001b[39m▂\u001b[39m▁\u001b[39m▂\u001b[39m▁\u001b[39m▁\u001b[32m▁\u001b[39m\u001b[39m▁\u001b[39m▁\u001b[39m▁\u001b[39m▁\u001b[39m▁\u001b[39m▁\u001b[39m▁\u001b[39m▁\u001b[39m▁\u001b[39m \u001b[39m▃\n",
       "  633 μs\u001b[90m          Histogram: frequency by time\u001b[39m          723 μs \u001b[0m\u001b[1m<\u001b[22m\n",
       "\n",
       " Memory estimate\u001b[90m: \u001b[39m\u001b[33m178.64 KiB\u001b[39m, allocs estimate\u001b[90m: \u001b[39m\u001b[33m4078\u001b[39m."
      ]
     },
     "metadata": {},
     "output_type": "display_data"
    }
   ],
   "source": [
    "@benchmark isempty(p2)"
   ]
  },
  {
   "cell_type": "code",
   "execution_count": 6,
   "metadata": {},
   "outputs": [
    {
     "name": "stdout",
     "output_type": "stream",
     "text": [
      "| name   |      size | summary                                                                                                               |\n",
      "|:------ | ---------:|:--------------------------------------------------------------------------------------------------------------------- |\n",
      "| Base   |           | Module                                                                                                                |\n",
      "| Core   |           | Module                                                                                                                |\n",
      "| H      | 1.602 KiB | 100×2 Matrix{Float64}                                                                                                 |\n",
      "| Main   |           | Module                                                                                                                |\n",
      "| N      |   8 bytes | Int64                                                                                                                 |\n",
      "| h      | 840 bytes | 100-element Vector{Float64}                                                                                           |\n",
      "| lib    |   8 bytes | DefaultLibrary{Float64}                                                                                               |\n",
      "| p      | 2.500 KiB | H-representation MixedMatHRep{Float64, Matrix{Float64}}                                                               |\n",
      "| p2     | 2.539 KiB | Polyhedron DefaultPolyhedron{Float64, MixedMatHRep{Float64, Matrix{Float64}}, MixedMatVRep{Float64, Matrix{Float64}}} |\n",
      "| solver | 592 bytes | DataType                                                                                                              |\n"
     ]
    }
   ],
   "source": [
    "print(varinfo())"
   ]
  },
  {
   "cell_type": "code",
   "execution_count": 50,
   "metadata": {},
   "outputs": [
    {
     "data": {
      "text/plain": [
       "A JuMP Model\n",
       "Feasibility problem with:\n",
       "Variables: 0\n",
       "Model mode: AUTOMATIC\n",
       "CachingOptimizer state: EMPTY_OPTIMIZER\n",
       "Solver name: ECOS"
      ]
     },
     "metadata": {},
     "output_type": "display_data"
    }
   ],
   "source": [
    "using JuMP, ECOS\n",
    "import GLPK\n",
    "model = Model(ECOS.Optimizer)\n",
    "# set_optimizer_attribute(model, \"maxit\", 100)\n",
    "\n"
   ]
  },
  {
   "cell_type": "code",
   "execution_count": 5,
   "metadata": {},
   "outputs": [
    {
     "name": "stdout",
     "output_type": "stream",
     "text": [
      "Min 12 x + 20 y\n",
      "Subject to\n",
      " c1 : 6 x + 8 y ≥ 100.0\n",
      " c2 : 7 x + 12 y ≥ 120.0\n",
      " x ≥ 0.0\n",
      " y ≥ 0.0\n",
      " y ≤ 3.0\n"
     ]
    }
   ],
   "source": [
    "@variable(model, x >= 0)\n",
    "@variable(model, 0 <= y <= 3)\n",
    "@objective(model, Min, 12x + 20y)\n",
    "@constraint(model, c1, 6x + 8y >= 100)\n",
    "@constraint(model, c2, 7x + 12y >= 120)\n",
    "print(model)\n"
   ]
  },
  {
   "cell_type": "code",
   "execution_count": 6,
   "metadata": {},
   "outputs": [
    {
     "name": "stdout",
     "output_type": "stream",
     "text": [
      "termination_status(model) = MathOptInterface.OPTIMAL\n",
      "primal_status(model) = MathOptInterface.FEASIBLE_POINT\n",
      "dual_status(model) = MathOptInterface.FEASIBLE_POINT\n",
      "objective_value(model) = 204.9999999934052\n",
      "value(x) = 15.000000112986154\n",
      "value(y) = 1.2499999318785677\n",
      "shadow_price(c1) = -0.24999999604618298\n",
      "shadow_price(c2) = -1.500000014381978\n",
      "\n",
      "ECOS 2.0.5 - (C) embotech GmbH, Zurich Switzerland, 2012-15. Web: www.embotech.com/ECOS\n",
      "\n",
      "It     pcost       dcost      gap   pres   dres    k/t    mu     step   sigma     IR    |   BT\n",
      " 0  +1.777e+02  +3.064e+02  +2e+02  2e-01  4e-01  1e+00  3e+01    ---    ---    1  1  - |  -  - \n",
      " 1  +2.051e+02  +2.190e+02  +2e+01  2e-02  5e-02  2e-01  3e+00  0.8824  6e-03   0  0  0 |  0  0\n",
      " 2  +2.033e+02  +2.079e+02  +6e+00  5e-03  2e-02  2e-01  1e+00  0.7276  8e-02   1  0  1 |  0  0\n",
      " 3  +2.050e+02  +2.056e+02  +6e-01  6e-04  2e-03  7e-02  1e-01  0.9760  9e-02   1  1  1 |  0  0\n",
      " 4  +2.050e+02  +2.050e+02  +9e-03  8e-06  3e-05  1e-03  2e-03  0.9848  2e-04   1  0  0 |  0  0\n",
      " 5  +2.050e+02  +2.050e+02  +1e-04  9e-08  3e-07  1e-05  2e-05  0.9890  1e-04   1  0  0 |  0  0\n",
      " 6  +2.050e+02  +2.050e+02  +1e-06  1e-09  3e-09  1e-07  2e-07  0.9890  1e-04   1  0  0 |  0  0\n",
      "\n",
      "OPTIMAL (within feastol=3.1e-09, reltol=5.7e-09, abstol=1.2e-06).\n",
      "Runtime: 0.000083 seconds.\n",
      "\n"
     ]
    },
    {
     "data": {
      "text/plain": [
       "-1.500000014381978"
      ]
     },
     "metadata": {},
     "output_type": "display_data"
    }
   ],
   "source": [
    "optimize!(model)\n",
    "@show termination_status(model)\n",
    "@show primal_status(model)\n",
    "@show dual_status(model)\n",
    "@show objective_value(model)\n",
    "@show value(x)\n",
    "@show value(y)\n",
    "@show shadow_price(c1)\n",
    "@show shadow_price(c2)"
   ]
  },
  {
   "cell_type": "code",
   "execution_count": 167,
   "metadata": {},
   "outputs": [
    {
     "name": "stdout",
     "output_type": "stream",
     "text": [
      "[-1.6074113212449364, -1.8789712568794865, 0.17949345424137508, 0.328192124266222, 0.43002289293356083, 0.15883563728126157, -1.9150891488641828, 1.9133590621114458, 0.7599721271831663, -0.35130778830234893, 2.4737826153678766, -1.2015009290190948, 0.39016927702972753, -0.5261373715073774, 0.6478911762736709, -0.13325733001070655, 0.8781619166380383, -0.5076245026392359, 0.7250082609843548, -1.0056137234067055, 0.4435400775549345, 0.3811018590559651, 0.9728130318084544, -0.6518343045281507, 0.10216585280230005, 0.9683714349918292, -0.9012489163885277, -0.43985469914841063, 0.6996039124674557, 0.08696708017741656, 1.8518774880588307, 0.5286684595158169, -0.8035897833346303, -0.021170290868437074, 1.3646626548568481, -0.8488313341315638, 1.2553624644805008, -0.43315641133355104, -0.4014215210128772, 1.6984095122903802, -0.03247585980353462, 0.3706575477898964, -0.7007288168784888, 0.46181375558355464, -0.15195674256344716, -0.07031564878387671, -0.0739075637061207, -2.4271848485083156, -2.042290361998941, -0.920050283713246, -0.3494718467465065, 0.07639245146629955, 0.01699449949628075, -0.305364176549439, -0.5871077815564753, 1.1253686405862247, 0.8104877582556975, -2.1920657537063803, 1.4964375911976175, -1.0153575328664262, -0.5265210275862778, 2.021024499189201, 1.8474818602595666, 0.06667671761281564, -1.031184394523011, 0.2817287796752243, -2.2583506853486606, 0.541247296936318, -1.9712223427603808, -1.9216997159481068, -0.5566367012646221, -0.887739926413164, -1.751431699350195, 1.99166218280202, 0.012711153860473496, 1.453658236751672, -3.1292833718548794, 0.5006294661022332, -2.0013677669522614, 1.5282025906061536, -1.4447584751034503, 1.1481195629384515, 0.6026376147112996, -0.8532222069430253, 1.4336447111046722, -0.6847613584070895, 0.7012506758972775, 0.16454593891536579, 1.4711766402133264, 1.1371780731619634, -1.3646000846325428, -0.4242387263477278, -1.41501322665823, -0.9127683091032589, -2.682255775794939, 0.9183935081830432, -0.224202969244734, -0.1575302806579176, -0.3136352380485853, 1.0326297845813777]\n",
      "[0.20928973885715002, -1.2113331448627525, 0.8033226689949815]\n"
     ]
    }
   ],
   "source": [
    "model = Model(GLPK.Optimizer)\n",
    "x = @variable(model, [1:3])\n",
    "c = [1,2,3]\n",
    "A = randn(100,3)\n",
    "b = randn(100)\n",
    "# A[4,:] .= 0\n",
    "# b[4] = 0\n",
    "@objective(model, Min, sum(c'*x))\n",
    "set_silent(model)\n",
    "@constraint(model, c1, A*x .>= b)\n",
    "# @constraint(model, c2, 7x + 12y >= 120)\n",
    "\n",
    "function make_and_solve()\n",
    "\n",
    "JuMP.set_normalized_rhs.(c1,b)\n",
    "for i = 1:size(A,2)\n",
    "JuMP.set_normalized_coefficient.(c1,x[i], A[:,i])\n",
    "end\n",
    "optimize!(model)\n",
    "# termination_status(model)\n",
    "end\n",
    "\n",
    "# println(list_of_constraint_types(model))\n",
    "# println(JuMP.set_normalized_rhs.(c1,[1,2,3,4]))\n",
    "println(JuMP.normalized_rhs.(c1))\n",
    "println(JuMP.normalized_coefficient.(c1[1],x))\n"
   ]
  },
  {
   "cell_type": "code",
   "execution_count": 168,
   "metadata": {},
   "outputs": [
    {
     "data": {
      "text/plain": [
       "BenchmarkTools.Trial: 10000 samples with 1 evaluation.\n",
       " Range \u001b[90m(\u001b[39m\u001b[36m\u001b[1mmin\u001b[22m\u001b[39m … \u001b[35mmax\u001b[39m\u001b[90m):  \u001b[39m\u001b[36m\u001b[1m284.318 μs\u001b[22m\u001b[39m … \u001b[35m 12.787 ms\u001b[39m  \u001b[90m┊\u001b[39m GC \u001b[90m(\u001b[39mmin … max\u001b[90m): \u001b[39m 0.00% … 97.03%\n",
       " Time  \u001b[90m(\u001b[39m\u001b[34m\u001b[1mmedian\u001b[22m\u001b[39m\u001b[90m):     \u001b[39m\u001b[34m\u001b[1m295.887 μs               \u001b[22m\u001b[39m\u001b[90m┊\u001b[39m GC \u001b[90m(\u001b[39mmedian\u001b[90m):    \u001b[39m 0.00%\n",
       " Time  \u001b[90m(\u001b[39m\u001b[32m\u001b[1mmean\u001b[22m\u001b[39m ± \u001b[32mσ\u001b[39m\u001b[90m):   \u001b[39m\u001b[32m\u001b[1m338.161 μs\u001b[22m\u001b[39m ± \u001b[32m668.381 μs\u001b[39m  \u001b[90m┊\u001b[39m GC \u001b[90m(\u001b[39mmean ± σ\u001b[90m):  \u001b[39m11.30% ±  5.56%\n",
       "\n",
       "  \u001b[39m \u001b[39m \u001b[39m \u001b[39m \u001b[39m▅\u001b[39m▇\u001b[39m▇\u001b[39m█\u001b[39m▇\u001b[39m▅\u001b[34m▃\u001b[39m\u001b[39m▃\u001b[39m▁\u001b[39m \u001b[39m \u001b[39m \u001b[39m \u001b[39m \u001b[39m \u001b[39m \u001b[39m \u001b[39m \u001b[39m \u001b[39m \u001b[39m \u001b[39m \u001b[39m \u001b[39m \u001b[39m \u001b[39m \u001b[39m \u001b[39m \u001b[39m \u001b[39m \u001b[39m \u001b[39m \u001b[39m \u001b[39m \u001b[39m \u001b[39m \u001b[39m \u001b[39m \u001b[39m \u001b[39m \u001b[39m \u001b[39m \u001b[39m \u001b[39m \u001b[32m \u001b[39m\u001b[39m \u001b[39m \u001b[39m \u001b[39m \u001b[39m \u001b[39m \u001b[39m \u001b[39m \u001b[39m \u001b[39m \u001b[39m \u001b[39m \u001b[39m \u001b[39m \n",
       "  \u001b[39m▁\u001b[39m▅\u001b[39m▇\u001b[39m█\u001b[39m█\u001b[39m█\u001b[39m█\u001b[39m█\u001b[39m█\u001b[39m█\u001b[34m█\u001b[39m\u001b[39m█\u001b[39m█\u001b[39m█\u001b[39m█\u001b[39m█\u001b[39m▇\u001b[39m▆\u001b[39m▅\u001b[39m▅\u001b[39m▄\u001b[39m▃\u001b[39m▃\u001b[39m▃\u001b[39m▃\u001b[39m▃\u001b[39m▃\u001b[39m▃\u001b[39m▂\u001b[39m▂\u001b[39m▂\u001b[39m▂\u001b[39m▂\u001b[39m▂\u001b[39m▂\u001b[39m▂\u001b[39m▂\u001b[39m▂\u001b[39m▁\u001b[39m▂\u001b[39m▂\u001b[39m▁\u001b[39m▁\u001b[39m▁\u001b[39m▁\u001b[39m▁\u001b[39m▁\u001b[39m▁\u001b[32m▁\u001b[39m\u001b[39m▁\u001b[39m▁\u001b[39m▁\u001b[39m▁\u001b[39m▁\u001b[39m▁\u001b[39m▁\u001b[39m▁\u001b[39m▁\u001b[39m▁\u001b[39m▁\u001b[39m▁\u001b[39m \u001b[39m▃\n",
       "  284 μs\u001b[90m           Histogram: frequency by time\u001b[39m          352 μs \u001b[0m\u001b[1m<\u001b[22m\n",
       "\n",
       " Memory estimate\u001b[90m: \u001b[39m\u001b[33m230.89 KiB\u001b[39m, allocs estimate\u001b[90m: \u001b[39m\u001b[33m5831\u001b[39m."
      ]
     },
     "metadata": {},
     "output_type": "display_data"
    }
   ],
   "source": [
    "make_and_solve()\n",
    "@benchmark make_and_solve()"
   ]
  },
  {
   "cell_type": "code",
   "execution_count": 77,
   "metadata": {},
   "outputs": [
    {
     "data": {
      "text/plain": [
       "BenchmarkTools.Trial: 10000 samples with 979 evaluations.\n",
       " Range \u001b[90m(\u001b[39m\u001b[36m\u001b[1mmin\u001b[22m\u001b[39m … \u001b[35mmax\u001b[39m\u001b[90m):  \u001b[39m\u001b[36m\u001b[1m61.394 ns\u001b[22m\u001b[39m … \u001b[35m  5.695 μs\u001b[39m  \u001b[90m┊\u001b[39m GC \u001b[90m(\u001b[39mmin … max\u001b[90m): \u001b[39m0.00% … 98.58%\n",
       " Time  \u001b[90m(\u001b[39m\u001b[34m\u001b[1mmedian\u001b[22m\u001b[39m\u001b[90m):     \u001b[39m\u001b[34m\u001b[1m63.580 ns               \u001b[22m\u001b[39m\u001b[90m┊\u001b[39m GC \u001b[90m(\u001b[39mmedian\u001b[90m):    \u001b[39m0.00%\n",
       " Time  \u001b[90m(\u001b[39m\u001b[32m\u001b[1mmean\u001b[22m\u001b[39m ± \u001b[32mσ\u001b[39m\u001b[90m):   \u001b[39m\u001b[32m\u001b[1m68.540 ns\u001b[22m\u001b[39m ± \u001b[32m109.229 ns\u001b[39m  \u001b[90m┊\u001b[39m GC \u001b[90m(\u001b[39mmean ± σ\u001b[90m):  \u001b[39m3.18% ±  1.97%\n",
       "\n",
       "  \u001b[39m \u001b[39m▂\u001b[39m▃\u001b[39m▅\u001b[39m▅\u001b[39m▇\u001b[39m█\u001b[39m▇\u001b[34m▇\u001b[39m\u001b[39m▅\u001b[39m▃\u001b[39m \u001b[39m \u001b[39m \u001b[39m \u001b[39m \u001b[39m \u001b[39m \u001b[39m \u001b[39m \u001b[39m \u001b[39m \u001b[39m▁\u001b[39m \u001b[39m \u001b[32m \u001b[39m\u001b[39m \u001b[39m \u001b[39m \u001b[39m \u001b[39m \u001b[39m \u001b[39m \u001b[39m▂\u001b[39m▄\u001b[39m▃\u001b[39m▄\u001b[39m▅\u001b[39m▅\u001b[39m▅\u001b[39m▅\u001b[39m▄\u001b[39m▃\u001b[39m▁\u001b[39m \u001b[39m \u001b[39m \u001b[39m \u001b[39m \u001b[39m \u001b[39m \u001b[39m \u001b[39m \u001b[39m \u001b[39m \u001b[39m▁\u001b[39m \u001b[39m \u001b[39m \u001b[39m \u001b[39m \u001b[39m▂\n",
       "  \u001b[39m▅\u001b[39m█\u001b[39m█\u001b[39m█\u001b[39m█\u001b[39m█\u001b[39m█\u001b[39m█\u001b[34m█\u001b[39m\u001b[39m█\u001b[39m█\u001b[39m█\u001b[39m▇\u001b[39m▇\u001b[39m▆\u001b[39m▆\u001b[39m▅\u001b[39m▇\u001b[39m▇\u001b[39m▇\u001b[39m▇\u001b[39m█\u001b[39m█\u001b[39m▇\u001b[39m█\u001b[32m▇\u001b[39m\u001b[39m▆\u001b[39m▆\u001b[39m▆\u001b[39m▆\u001b[39m▅\u001b[39m▆\u001b[39m▆\u001b[39m█\u001b[39m█\u001b[39m█\u001b[39m█\u001b[39m█\u001b[39m█\u001b[39m█\u001b[39m█\u001b[39m█\u001b[39m█\u001b[39m█\u001b[39m█\u001b[39m▇\u001b[39m█\u001b[39m█\u001b[39m▇\u001b[39m▇\u001b[39m█\u001b[39m█\u001b[39m█\u001b[39m█\u001b[39m█\u001b[39m█\u001b[39m▇\u001b[39m▇\u001b[39m▇\u001b[39m▇\u001b[39m \u001b[39m█\n",
       "  61.4 ns\u001b[90m       \u001b[39m\u001b[90mHistogram: \u001b[39m\u001b[90m\u001b[1mlog(\u001b[22m\u001b[39m\u001b[90mfrequency\u001b[39m\u001b[90m\u001b[1m)\u001b[22m\u001b[39m\u001b[90m by time\u001b[39m      78.2 ns \u001b[0m\u001b[1m<\u001b[22m\n",
       "\n",
       " Memory estimate\u001b[90m: \u001b[39m\u001b[33m32 bytes\u001b[39m, allocs estimate\u001b[90m: \u001b[39m\u001b[33m2\u001b[39m."
      ]
     },
     "metadata": {},
     "output_type": "display_data"
    }
   ],
   "source": [
    "model = Model(ECOS.Optimizer)\n",
    "@variable(model, x)\n",
    "@variable(model, y)\n",
    "@variable(model, z)\n",
    "@objective(model, Min, 1x + 2y + 3z)\n",
    "@constraint(model, c1, 6x + 8y + 10z >= 100)\n",
    "@constraint(model, c2, 7x + 12y >= 120)\n",
    "set_silent(model)\n",
    "\n",
    "@benchmark optimize!(model)"
   ]
  },
  {
   "cell_type": "code",
   "execution_count": 69,
   "metadata": {},
   "outputs": [
    {
     "data": {
      "text/plain": [
       "ECOS.Optimizer"
      ]
     },
     "metadata": {},
     "output_type": "display_data"
    }
   ],
   "source": [
    "import MathOptInterface\n",
    "using GLPK\n",
    "const MOI = MathOptInterface\n",
    "optimizer = ECOS.Optimizer()"
   ]
  },
  {
   "cell_type": "code",
   "execution_count": 75,
   "metadata": {},
   "outputs": [
    {
     "ename": "MathOptInterface.AddVariableNotAllowed",
     "evalue": "MathOptInterface.AddVariableNotAllowed: Adding variables cannot be performed. You may want to use a `CachingOptimizer` in `AUTOMATIC` mode or you may need to call `reset_optimizer` before doing this operation if the `CachingOptimizer` is in `MANUAL` mode.",
     "output_type": "error",
     "traceback": [
      "MathOptInterface.AddVariableNotAllowed: Adding variables cannot be performed. You may want to use a `CachingOptimizer` in `AUTOMATIC` mode or you may need to call `reset_optimizer` before doing this operation if the `CachingOptimizer` is in `MANUAL` mode.\n",
      "\n",
      "Stacktrace:\n",
      "  [1] add_variable(model::ECOS.Optimizer)\n",
      "    @ MathOptInterface ~/.julia/packages/MathOptInterface/YDdD3/src/variables.jl:37\n",
      "  [2] top-level scope\n",
      "    @ ~/Projects/nn_verification/polyhedra.ipynb:4\n",
      "  [3] eval\n",
      "    @ ./boot.jl:373 [inlined]\n",
      "  [4] include_string(mapexpr::typeof(REPL.softscope), mod::Module, code::String, filename::String)\n",
      "    @ Base ./loading.jl:1196\n",
      "  [5] #invokelatest#2\n",
      "    @ ./essentials.jl:716 [inlined]\n",
      "  [6] invokelatest\n",
      "    @ ./essentials.jl:714 [inlined]\n",
      "  [7] (::VSCodeServer.var\"#164#165\"{VSCodeServer.NotebookRunCellArguments, String})()\n",
      "    @ VSCodeServer ~/.vscode-server/extensions/julialang.language-julia-1.6.17/scripts/packages/VSCodeServer/src/serve_notebook.jl:19\n",
      "  [8] withpath(f::VSCodeServer.var\"#164#165\"{VSCodeServer.NotebookRunCellArguments, String}, path::String)\n",
      "    @ VSCodeServer ~/.vscode-server/extensions/julialang.language-julia-1.6.17/scripts/packages/VSCodeServer/src/repl.jl:184\n",
      "  [9] notebook_runcell_request(conn::VSCodeServer.JSONRPC.JSONRPCEndpoint{Base.PipeEndpoint, Base.PipeEndpoint}, params::VSCodeServer.NotebookRunCellArguments)\n",
      "    @ VSCodeServer ~/.vscode-server/extensions/julialang.language-julia-1.6.17/scripts/packages/VSCodeServer/src/serve_notebook.jl:13\n",
      " [10] dispatch_msg(x::VSCodeServer.JSONRPC.JSONRPCEndpoint{Base.PipeEndpoint, Base.PipeEndpoint}, dispatcher::VSCodeServer.JSONRPC.MsgDispatcher, msg::Dict{String, Any})\n",
      "    @ VSCodeServer.JSONRPC ~/.vscode-server/extensions/julialang.language-julia-1.6.17/scripts/packages/JSONRPC/src/typed.jl:67\n",
      " [11] serve_notebook(pipename::String, outputchannel_logger::Base.CoreLogging.SimpleLogger; crashreporting_pipename::String)\n",
      "    @ VSCodeServer ~/.vscode-server/extensions/julialang.language-julia-1.6.17/scripts/packages/VSCodeServer/src/serve_notebook.jl:136\n",
      " [12] top-level scope\n",
      "    @ ~/.vscode-server/extensions/julialang.language-julia-1.6.17/scripts/notebook/notebook.jl:32\n",
      " [13] include(mod::Module, _path::String)\n",
      "    @ Base ./Base.jl:418\n",
      " [14] exec_options(opts::Base.JLOptions)\n",
      "    @ Base ./client.jl:292\n",
      " [15] _start()\n",
      "    @ Base ./client.jl:495"
     ]
    }
   ],
   "source": [
    "c = [1.0, 2.0, 3.0]\n",
    "w = [0.3, 0.5, 1.0]\n",
    "C = 3.2\n",
    "MOI.Utilities.CachingOptimizer\n",
    "\n",
    "x = MOI.add_variable(optimizer);\n",
    "MOI.set(\n",
    "    optimizer,\n",
    "    MOI.ObjectiveFunction{MOI.ScalarAffineFunction{Float64}}(),\n",
    "    MOI.ScalarAffineFunction(MOI.ScalarAffineTerm.(c, x), 0.0),\n",
    ");\n",
    "MOI.set(optimizer, MOI.ObjectiveSense(), MOI.MAX_SENSE)\n",
    "\n",
    "MOI.add_constraint(\n",
    "    optimizer,\n",
    "    MOI.ScalarAffineFunction(MOI.ScalarAffineTerm.(w, x), 0.0),\n",
    "    MOI.LessThan(C),\n",
    ");\n",
    "\n",
    "for x_i in x\n",
    "    MOI.add_constraint(optimizer, x_i, MOI.ZeroOne())\n",
    "end"
   ]
  },
  {
   "cell_type": "code",
   "execution_count": 42,
   "metadata": {},
   "outputs": [],
   "source": [
    "MOI.optimize!(optimizer)"
   ]
  },
  {
   "cell_type": "code",
   "execution_count": 65,
   "metadata": {},
   "outputs": [
    {
     "data": {
      "text/plain": [
       "BenchmarkTools.Trial: 10000 samples with 999 evaluations.\n",
       " Range \u001b[90m(\u001b[39m\u001b[36m\u001b[1mmin\u001b[22m\u001b[39m … \u001b[35mmax\u001b[39m\u001b[90m):  \u001b[39m\u001b[36m\u001b[1m10.278 ns\u001b[22m\u001b[39m … \u001b[35m27.354 ns\u001b[39m  \u001b[90m┊\u001b[39m GC \u001b[90m(\u001b[39mmin … max\u001b[90m): \u001b[39m0.00% … 0.00%\n",
       " Time  \u001b[90m(\u001b[39m\u001b[34m\u001b[1mmedian\u001b[22m\u001b[39m\u001b[90m):     \u001b[39m\u001b[34m\u001b[1m10.565 ns              \u001b[22m\u001b[39m\u001b[90m┊\u001b[39m GC \u001b[90m(\u001b[39mmedian\u001b[90m):    \u001b[39m0.00%\n",
       " Time  \u001b[90m(\u001b[39m\u001b[32m\u001b[1mmean\u001b[22m\u001b[39m ± \u001b[32mσ\u001b[39m\u001b[90m):   \u001b[39m\u001b[32m\u001b[1m10.594 ns\u001b[22m\u001b[39m ± \u001b[32m 0.326 ns\u001b[39m  \u001b[90m┊\u001b[39m GC \u001b[90m(\u001b[39mmean ± σ\u001b[90m):  \u001b[39m0.00% ± 0.00%\n",
       "\n",
       "  \u001b[39m \u001b[39m \u001b[39m \u001b[39m \u001b[39m \u001b[39m \u001b[39m \u001b[39m \u001b[39m \u001b[39m \u001b[39m \u001b[39m▂\u001b[39m█\u001b[34m▅\u001b[39m\u001b[32m \u001b[39m\u001b[39m \u001b[39m \u001b[39m \u001b[39m \u001b[39m \u001b[39m \u001b[39m \u001b[39m \u001b[39m \u001b[39m \u001b[39m \u001b[39m \u001b[39m \u001b[39m \u001b[39m \u001b[39m \u001b[39m \u001b[39m \u001b[39m \u001b[39m \u001b[39m \u001b[39m \u001b[39m \u001b[39m \u001b[39m \u001b[39m \u001b[39m \u001b[39m \u001b[39m \u001b[39m \u001b[39m \u001b[39m \u001b[39m \u001b[39m \u001b[39m \u001b[39m \u001b[39m \u001b[39m \u001b[39m \u001b[39m \u001b[39m \u001b[39m \u001b[39m \u001b[39m \u001b[39m \u001b[39m \n",
       "  \u001b[39m▂\u001b[39m▃\u001b[39m▃\u001b[39m▃\u001b[39m▃\u001b[39m▃\u001b[39m▃\u001b[39m▅\u001b[39m▆\u001b[39m▇\u001b[39m▇\u001b[39m█\u001b[39m█\u001b[34m█\u001b[39m\u001b[32m█\u001b[39m\u001b[39m▅\u001b[39m▅\u001b[39m▅\u001b[39m▄\u001b[39m▃\u001b[39m▃\u001b[39m▂\u001b[39m▂\u001b[39m▂\u001b[39m▂\u001b[39m▂\u001b[39m▂\u001b[39m▂\u001b[39m▂\u001b[39m▂\u001b[39m▂\u001b[39m▂\u001b[39m▂\u001b[39m▂\u001b[39m▂\u001b[39m▂\u001b[39m▂\u001b[39m▂\u001b[39m▂\u001b[39m▂\u001b[39m▂\u001b[39m▂\u001b[39m▂\u001b[39m▂\u001b[39m▂\u001b[39m▂\u001b[39m▂\u001b[39m▂\u001b[39m▂\u001b[39m▂\u001b[39m▂\u001b[39m▂\u001b[39m▂\u001b[39m▂\u001b[39m▂\u001b[39m▁\u001b[39m▂\u001b[39m▁\u001b[39m▂\u001b[39m \u001b[39m▃\n",
       "  10.3 ns\u001b[90m         Histogram: frequency by time\u001b[39m        11.6 ns \u001b[0m\u001b[1m<\u001b[22m\n",
       "\n",
       " Memory estimate\u001b[90m: \u001b[39m\u001b[33m0 bytes\u001b[39m, allocs estimate\u001b[90m: \u001b[39m\u001b[33m0\u001b[39m."
      ]
     },
     "metadata": {},
     "output_type": "display_data"
    }
   ],
   "source": [
    "@benchmark MOI.optimize!(optimizer)"
   ]
  },
  {
   "cell_type": "code",
   "execution_count": 64,
   "metadata": {},
   "outputs": [],
   "source": []
  },
  {
   "cell_type": "code",
   "execution_count": null,
   "metadata": {},
   "outputs": [],
   "source": []
  }
 ],
 "metadata": {
  "kernelspec": {
   "display_name": "Julia 1.7.2",
   "language": "julia",
   "name": "julia-1.7"
  },
  "language_info": {
   "file_extension": ".jl",
   "mimetype": "application/julia",
   "name": "julia",
   "version": "1.7.2"
  },
  "orig_nbformat": 4
 },
 "nbformat": 4,
 "nbformat_minor": 2
}
