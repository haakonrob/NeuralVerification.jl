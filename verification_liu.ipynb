{
 "cells": [
  {
   "cell_type": "code",
   "execution_count": 13,
   "metadata": {},
   "outputs": [
    {
     "data": {
      "text/plain": [
       "ExactReach()"
      ]
     },
     "execution_count": 13,
     "metadata": {},
     "output_type": "execute_result"
    }
   ],
   "source": [
    "using NeuralVerification\n",
    "\n",
    "solver = ExactReach()"
   ]
  },
  {
   "cell_type": "code",
   "execution_count": 14,
   "metadata": {},
   "outputs": [
    {
     "data": {
      "text/plain": [
       "Problem{Hyperrectangle{Float64, Vector{Float64}, Vector{Float64}}, Hyperrectangle{Float64, Vector{Float64}, Vector{Float64}}}(Network(NeuralVerification.Layer[NeuralVerification.Layer{NeuralVerification.ReLU, Float64}([1.0; 1.0;;], [1.5, 1.5], NeuralVerification.ReLU()), NeuralVerification.Layer{NeuralVerification.ReLU, Float64}([2.0 2.0; 2.0 2.0], [2.5, 2.5], NeuralVerification.ReLU()), NeuralVerification.Layer{NeuralVerification.Id, Float64}([3.0 3.0], [3.5], NeuralVerification.Id())]), Hyperrectangle{Float64, Vector{Float64}, Vector{Float64}}([0.0], [1.0]), Hyperrectangle{Float64, Vector{Float64}, Vector{Float64}}([34.5], [35.5]))"
      ]
     },
     "execution_count": 14,
     "metadata": {},
     "output_type": "execute_result"
    }
   ],
   "source": [
    "using LazySets\n",
    "nnet = read_nnet(\"examples/small_nnet.nnet\")\n",
    "input_set  = Hyperrectangle(low = [-1.0], high = [1.0])\n",
    "output_set = Hyperrectangle(low = [-1.0], high = [70.0])\n",
    "problem = Problem(nnet, input_set, output_set)"
   ]
  },
  {
   "cell_type": "code",
   "execution_count": 15,
   "metadata": {},
   "outputs": [
    {
     "name": "stdout",
     "output_type": "stream",
     "text": [
      "glp_simplex: unable to recover undefined or non-optimal solution\n"
     ]
    },
    {
     "data": {
      "text/plain": [
       "ReachabilityResult(:violated, HPolytope[HPolytope{Float64, Vector{Float64}}(HalfSpace{Float64, Vector{Float64}}[HalfSpace{Float64, Vector{Float64}}([-1.0], -30.49999999999999), HalfSpace{Float64, Vector{Float64}}([1.0], 78.5)])])"
      ]
     },
     "execution_count": 15,
     "metadata": {},
     "output_type": "execute_result"
    }
   ],
   "source": [
    "result = solve(solver, problem)"
   ]
  },
  {
   "cell_type": "code",
   "execution_count": 12,
   "metadata": {},
   "outputs": [
    {
     "data": {
      "text/plain": [
       "1-element Vector{Float64}:\n",
       " 1.0"
      ]
     },
     "execution_count": 12,
     "metadata": {},
     "output_type": "execute_result"
    }
   ],
   "source": [
    "result"
   ]
  }
 ],
 "metadata": {
  "kernelspec": {
   "display_name": "Julia 1.7.2",
   "language": "julia",
   "name": "julia-1.7"
  },
  "language_info": {
   "file_extension": ".jl",
   "mimetype": "application/julia",
   "name": "julia",
   "version": "1.7.2"
  },
  "orig_nbformat": 4
 },
 "nbformat": 4,
 "nbformat_minor": 2
}
